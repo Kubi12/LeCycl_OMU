{
 "cells": [
  {
   "cell_type": "code",
   "execution_count": 3,
   "id": "eee25c17",
   "metadata": {},
   "outputs": [],
   "source": [
    "import pandas as pd\n",
    "import matplotlib.pyplot as plt"
   ]
  },
  {
   "cell_type": "code",
   "execution_count": 4,
   "id": "89e6286d",
   "metadata": {},
   "outputs": [],
   "source": [
    "df_1 = pd.read_csv('Persona/NiklasBohley_all_tasks - Niklas Bohley/NiklasBohley_all_tasks_part1.csv')\n",
    "df_1_2 = pd.read_csv('Persona/NiklasBohley_all_tasks - Niklas Bohley/NiklasBohley_all_tasks_part2.csv')\n",
    "df_2 = pd.read_csv('Persona/Antoine_Souchaud __task.csv - Scypher.csv')\n",
    "df_3 = pd.read_csv('Persona/cochetquen_task - Quentin Cochet.csv')\n",
    "df_4 = pd.read_csv('Persona/Ikram__a240f511-aca9-4025-86af-b4856a735bd4__2022-08-26T14_53_42.873Z - Ikram LAAOUANE.csv')\n",
    "df_5 = pd.read_csv('Persona/ilan_lbz__da6f8173-1eb3-45c4-a512-35ad067d3be3__2022-08-25T07_26_14.532Z - Ilan Elbeze.csv')\n",
    "df_6 = pd.read_csv('Persona/MiguelP__4e34082e-d165-4ba7-9f16-055d40c9123a__2022-08-31T05_23_43.976Z - Miguel Pardo.csv')\n",
    "df_7 = pd.read_csv('Persona/ruben_task - Ruben ALOUKOU.csv')\n",
    "df_8 = pd.read_csv('Persona/tapatun_d8952d87_6b0a_4380_a553_1d1e5082a47a_2022_09_11T16_09_43 - Arseniy Aseev.csv')\n",
    "df_9 = pd.read_csv('Persona/Victor FEUGA__a6156a66-8798-40ab-8e28-912e0e5da042__2022-08-25T09_17_08.422Z - Vick Feuga.csv')\n",
    "df_10 = pd.read_csv('Persona/Youssop.csv')\n",
    "\n"
   ]
  },
  {
   "cell_type": "code",
   "execution_count": null,
   "id": "10873554",
   "metadata": {},
   "outputs": [],
   "source": []
  }
 ],
 "metadata": {
  "kernelspec": {
   "display_name": "Python 3 (ipykernel)",
   "language": "python",
   "name": "python3"
  },
  "language_info": {
   "codemirror_mode": {
    "name": "ipython",
    "version": 3
   },
   "file_extension": ".py",
   "mimetype": "text/x-python",
   "name": "python",
   "nbconvert_exporter": "python",
   "pygments_lexer": "ipython3",
   "version": "3.8.13"
  }
 },
 "nbformat": 4,
 "nbformat_minor": 5
}
